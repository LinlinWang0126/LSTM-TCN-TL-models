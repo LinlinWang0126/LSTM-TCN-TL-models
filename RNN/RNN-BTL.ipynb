{
 "cells": [
  {
   "cell_type": "code",
   "execution_count": 22,
   "id": "0f4011a4-876b-43d7-abf3-4aeae6a63793",
   "metadata": {
    "tags": []
   },
   "outputs": [],
   "source": [
    "import torch\n",
    "import numpy as np\n",
    "import pandas as pd\n",
    "from sklearn.preprocessing import StandardScaler\n",
    "from sklearn.metrics import mean_squared_error, mean_absolute_error, r2_score\n",
    "import os\n"
   ]
  },
  {
   "cell_type": "code",
   "execution_count": 23,
   "id": "17b29068-6d4f-4a39-8bf1-37f8669658dc",
   "metadata": {
    "tags": []
   },
   "outputs": [],
   "source": [
    "## Load and preprocess new data\n",
    "df = pd.read_csv('Fill.csv')\n",
    "x = np.array(df.iloc[:, :2])\n",
    "y = np.array(df.iloc[:, 2])\n",
    "\n",
    "scaler_x = StandardScaler()\n",
    "x = scaler_x.fit_transform(x)\n",
    "\n",
    "scaler_y = StandardScaler()\n",
    "y = y.reshape(-1, 1)\n",
    "y = scaler_y.fit_transform(y)\n",
    "\n",
    "x = torch.from_numpy(x).type(torch.FloatTensor)\n",
    "y = torch.from_numpy(y).type(torch.FloatTensor)\n"
   ]
  },
  {
   "cell_type": "code",
   "execution_count": 24,
   "id": "eeddba76-ff1d-4ce6-a27b-40aa166b74ca",
   "metadata": {
    "tags": []
   },
   "outputs": [],
   "source": [
    "# Define the RNN model\n",
    "class Net(nn.Module):\n",
    "    def __init__(self, input_size, hidden_dim, num_layers, output=1):\n",
    "        super(Net, self).__init__()\n",
    "        self.hidden_dim = hidden_dim\n",
    "        self.rnn = nn.RNN(input_size=input_size, hidden_size=hidden_dim, num_layers=num_layers, batch_first=True)\n",
    "        self.linear = nn.Linear(hidden_dim, output)\n",
    "\n",
    "    def forward(self, x):\n",
    "        out, _ = self.rnn(x)\n",
    "        out = out[:, -1, :]\n",
    "        out = self.linear(out)\n",
    "        return out\n",
    "\n"
   ]
  },
  {
   "cell_type": "code",
   "execution_count": 25,
   "id": "d1c9c31c-6500-4a18-8520-461c0dba35f5",
   "metadata": {
    "tags": []
   },
   "outputs": [
    {
     "name": "stdout",
     "output_type": "stream",
     "text": [
      "Model loaded from disk.\n"
     ]
    }
   ],
   "source": [
    "# Load the model\n",
    "model_path = './rnnmodel/model_rnn_weight.pth'\n",
    "model = Net(hidden_dim=220, input_size=1, num_layers=2)\n",
    "if os.path.exists(model_path):\n",
    "    model.load_state_dict(torch.load(model_path))\n",
    "    print(\"Model loaded from disk.\")\n",
    "else:\n",
    "    print(\"Model file not found.\")\n",
    "    "
   ]
  },
  {
   "cell_type": "code",
   "execution_count": 26,
   "id": "08dba7a2-1136-475e-90a9-a491eb919f9b",
   "metadata": {
    "tags": []
   },
   "outputs": [
    {
     "name": "stdout",
     "output_type": "stream",
     "text": [
      "Model loaded from disk.\n",
      "Mean Squared Error (MSE): 272.9139709472656\n",
      "Root Mean Squared Error (RMSE): 16.52010726928711\n",
      "Mean Absolute Error (MAE): 13.262194633483887\n",
      "R² Score: -0.5788819485610244\n"
     ]
    }
   ],
   "source": [
    "# Load the model\n",
    "model_path = './rnnmodel/model_rnn_weight.pth'\n",
    "model = Net(hidden_dim=220, input_size=1, num_layers=2)\n",
    "if os.path.exists(model_path):\n",
    "    model.load_state_dict(torch.load(model_path))\n",
    "    print(\"Model loaded from disk.\")\n",
    "else:\n",
    "    print(\"Model file not found.\")\n",
    "\n",
    "# Prepare data for testing\n",
    "x = x.reshape(-1, 2, 1)\n",
    "\n",
    "# Testing the model\n",
    "model.eval()\n",
    "with torch.no_grad():\n",
    "    outputs = model(x)\n",
    "\n",
    "# Inverse transform\n",
    "outputs = outputs.numpy()\n",
    "y = y.numpy()\n",
    "outputs = scaler_y.inverse_transform(outputs)\n",
    "y = scaler_y.inverse_transform(y)\n",
    "\n",
    "# Calculate Metrics\n",
    "mse = mean_squared_error(y, outputs)\n",
    "rmse = np.sqrt(mse)\n",
    "mae = mean_absolute_error(y, outputs)\n",
    "r2 = r2_score(y, outputs)\n",
    "\n",
    "print(f\"Mean Squared Error (MSE): {mse}\")\n",
    "print(f\"Root Mean Squared Error (RMSE): {rmse}\")\n",
    "print(f\"Mean Absolute Error (MAE): {mae}\")\n",
    "print(f\"R² Score: {r2}\")"
   ]
  },
  {
   "cell_type": "code",
   "execution_count": null,
   "id": "28ef691b-7262-4a9c-adac-efa5f2d920ad",
   "metadata": {},
   "outputs": [],
   "source": []
  }
 ],
 "metadata": {
  "kernelspec": {
   "display_name": "Python 3 (ipykernel)",
   "language": "python",
   "name": "python3"
  },
  "language_info": {
   "codemirror_mode": {
    "name": "ipython",
    "version": 3
   },
   "file_extension": ".py",
   "mimetype": "text/x-python",
   "name": "python",
   "nbconvert_exporter": "python",
   "pygments_lexer": "ipython3",
   "version": "3.8.10"
  }
 },
 "nbformat": 4,
 "nbformat_minor": 5
}
