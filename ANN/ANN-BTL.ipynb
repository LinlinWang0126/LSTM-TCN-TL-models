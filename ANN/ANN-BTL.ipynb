{
 "cells": [
  {
   "cell_type": "code",
   "execution_count": 9,
   "id": "ffc1fa9b-8beb-4d98-ab9a-72ea8b8544c1",
   "metadata": {
    "tags": []
   },
   "outputs": [],
   "source": [
    "import pandas as pd\n",
    "import numpy as np\n",
    "from sklearn.preprocessing import StandardScaler\n",
    "from sklearn.model_selection import train_test_split\n",
    "from sklearn.metrics import mean_squared_error, mean_absolute_error, r2_score\n",
    "import matplotlib.pyplot as plt\n",
    "from tensorflow.keras.models import Sequential\n",
    "from tensorflow.keras.layers import Dense\n",
    "import os\n",
    "import json\n"
   ]
  },
  {
   "cell_type": "code",
   "execution_count": 10,
   "id": "f5ceb12e-669d-4bc7-9c06-6ccb3014f8bf",
   "metadata": {
    "tags": []
   },
   "outputs": [
    {
     "name": "stdout",
     "output_type": "stream",
     "text": [
      "(427263, 3)\n",
      "(288833, 3)\n",
      "(288833, 2) (288833,)\n"
     ]
    }
   ],
   "source": [
    "def c6_data():\n",
    "    df = pd.read_csv('Fill.csv')\n",
    "    print(df.shape)\n",
    "\n",
    "    # 删除重复值\n",
    "    df.drop_duplicates(inplace=True)\n",
    "    print(df.shape)\n",
    "\n",
    "    x = df.iloc[:, :2].values\n",
    "    y = df.iloc[:, 2].values\n",
    "\n",
    "    print(x.shape, y.shape)\n",
    "    \n",
    "    # 归一化\n",
    "    scaler_x = StandardScaler()\n",
    "    scaler_x.fit(x)\n",
    "    x = scaler_x.transform(x)\n",
    "\n",
    "    scaler_y = StandardScaler()\n",
    "    y = y.reshape(-1, 1)  # Reshape y to have one feature\n",
    "    scaler_y.fit(y)\n",
    "    y = scaler_y.transform(y)\n",
    "\n",
    "    # 划分数据集\n",
    "    x_train, x_test, y_train, y_test = train_test_split(x, y, test_size=0.2, random_state=666)\n",
    "    \n",
    "    return x_train, x_test, y_train, y_test, scaler_x, scaler_y\n",
    "\n",
    "# 保存处理后的数据在csv文件里\n",
    "x_train, x_test, y_train, y_test, scaler_x, scaler_y = c6_data()\n",
    "\n",
    "x_train_reshaped = x_train.reshape(x_train.shape[0], x_train.shape[1])\n",
    "x_test_reshaped = x_test.reshape(x_test.shape[0], x_test.shape[1])\n",
    "\n",
    "y_train_reshaped = y_train.reshape(y_train.shape[0], y_train.shape[1])\n",
    "y_test_reshaped = y_test.reshape(y_test.shape[0], y_test.shape[1])\n",
    "\n",
    "# 将数据转换为DataFrame\n",
    "df_x_train = pd.DataFrame(x_train_reshaped)\n",
    "df_x_test = pd.DataFrame(x_test_reshaped)\n",
    "df_y_train = pd.DataFrame(y_train_reshaped)\n",
    "df_y_test = pd.DataFrame(y_test_reshaped)\n",
    "\n",
    "# 保存到CSV文件\n",
    "df_x_train.to_csv('x_train.csv', index=False)\n",
    "df_x_test.to_csv('x_test.csv', index=False)\n",
    "df_y_train.to_csv('y_train.csv', index=False)\n",
    "df_y_test.to_csv('y_test.csv', index=False)\n"
   ]
  },
  {
   "cell_type": "code",
   "execution_count": 3,
   "id": "f86293a7-c1d5-4216-a1a2-864d21ed6928",
   "metadata": {
    "tags": []
   },
   "outputs": [
    {
     "name": "stderr",
     "output_type": "stream",
     "text": [
      "2024-10-11 21:46:50.090067: I tensorflow/core/common_runtime/gpu/gpu_device.cc:1639] Created device /job:localhost/replica:0/task:0/device:GPU:0 with 9797 MB memory:  -> device: 0, name: NVIDIA GeForce RTX 2080 Ti, pci bus id: 0000:3e:00.0, compute capability: 7.5\n"
     ]
    }
   ],
   "source": [
    "# Define the ANN model\n",
    "model_ann = Sequential()\n",
    "model_ann.add(Dense(30, activation='relu', input_dim=x_train.shape[1]))\n",
    "model_ann.add(Dense(30, activation='relu'))\n",
    "model_ann.add(Dense(1))\n",
    "model_ann.compile(optimizer='adam', loss='mse', metrics=['mae'])\n"
   ]
  },
  {
   "cell_type": "code",
   "execution_count": 11,
   "id": "925363cd-bde2-435d-806d-81a72337e921",
   "metadata": {
    "tags": []
   },
   "outputs": [
    {
     "data": {
      "text/plain": [
       "<tensorflow.python.checkpoint.checkpoint.CheckpointLoadStatus at 0x7fc2a3300f70>"
      ]
     },
     "execution_count": 11,
     "metadata": {},
     "output_type": "execute_result"
    }
   ],
   "source": [
    "\n",
    "model_ann.load_weights('./annmodel/model_ann_weight')\n"
   ]
  },
  {
   "cell_type": "code",
   "execution_count": 12,
   "id": "219d4e16-fb72-4705-bc88-9b13daed26e2",
   "metadata": {
    "tags": []
   },
   "outputs": [
    {
     "name": "stdout",
     "output_type": "stream",
     "text": [
      "1806/1806 [==============================] - 1s 779us/step\n",
      "Mean Squared Error (MSE): 0.9978511249714735\n",
      "Root Mean Squared Error (RMSE): 0.9989249846567426\n",
      "Mean Absolute Error (MAE): 0.8296306396753196\n",
      "R² Score: 0.003660109048035931\n"
     ]
    }
   ],
   "source": [
    "# Predict using ANN model\n",
    "y_pred_ann = model_ann.predict(x_test)\n",
    "\n",
    "# Save ANN model predictions\n",
    "pd.DataFrame(y_pred_ann, columns=['Predicted']).to_csv('y_pred_ann.csv', index=False)\n",
    "\n",
    "# Calculate Mean Squared Error (MSE)\n",
    "mse_ann = mean_squared_error(y_test, y_pred_ann)\n",
    "\n",
    "# Calculate Root Mean Squared Error (RMSE)\n",
    "rmse_ann = np.sqrt(mse_ann)\n",
    "\n",
    "# Calculate Mean Absolute Error (MAE)\n",
    "mae_ann = mean_absolute_error(y_test, y_pred_ann)\n",
    "\n",
    "# Calculate R² Score\n",
    "r2_ann = r2_score(y_test, y_pred_ann)\n",
    "\n",
    "print(f\"Mean Squared Error (MSE): {mse_ann}\")\n",
    "print(f\"Root Mean Squared Error (RMSE): {rmse_ann}\")\n",
    "print(f\"Mean Absolute Error (MAE): {mae_ann}\")\n",
    "print(f\"R² Score: {r2_ann}\")\n",
    "\n"
   ]
  },
  {
   "cell_type": "code",
   "execution_count": null,
   "id": "258e67d5-1521-4e00-b99e-1d04e65d44e2",
   "metadata": {},
   "outputs": [],
   "source": []
  }
 ],
 "metadata": {
  "kernelspec": {
   "display_name": "Python 3 (ipykernel)",
   "language": "python",
   "name": "python3"
  },
  "language_info": {
   "codemirror_mode": {
    "name": "ipython",
    "version": 3
   },
   "file_extension": ".py",
   "mimetype": "text/x-python",
   "name": "python",
   "nbconvert_exporter": "python",
   "pygments_lexer": "ipython3",
   "version": "3.8.10"
  }
 },
 "nbformat": 4,
 "nbformat_minor": 5
}
