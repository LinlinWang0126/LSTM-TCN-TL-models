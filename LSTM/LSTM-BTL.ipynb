{
 "cells": [
  {
   "cell_type": "code",
   "execution_count": 1,
   "id": "a0c3c6f0-3098-4db7-a0d0-bbcb9bb08e99",
   "metadata": {
    "tags": []
   },
   "outputs": [
    {
     "name": "stderr",
     "output_type": "stream",
     "text": [
      "2024-10-11 22:04:29.309119: I tensorflow/core/util/port.cc:110] oneDNN custom operations are on. You may see slightly different numerical results due to floating-point round-off errors from different computation orders. To turn them off, set the environment variable `TF_ENABLE_ONEDNN_OPTS=0`.\n",
      "2024-10-11 22:04:29.363993: I tensorflow/core/platform/cpu_feature_guard.cc:182] This TensorFlow binary is optimized to use available CPU instructions in performance-critical operations.\n",
      "To enable the following instructions: AVX2 AVX512F AVX512_VNNI FMA, in other operations, rebuild TensorFlow with the appropriate compiler flags.\n",
      "2024-10-11 22:04:30.244004: W tensorflow/compiler/tf2tensorrt/utils/py_utils.cc:38] TF-TRT Warning: Could not find TensorRT\n"
     ]
    }
   ],
   "source": [
    "import os\n",
    "import joblib\n",
    "import pandas as pd\n",
    "import numpy as np\n",
    "from sklearn.preprocessing import StandardScaler\n",
    "from sklearn.model_selection import train_test_split\n",
    "from sklearn.metrics import mean_squared_error, mean_absolute_error, r2_score\n",
    "import tensorflow as tf\n"
   ]
  },
  {
   "cell_type": "code",
   "execution_count": 2,
   "id": "4cb560af-317a-4189-85ca-df6e22e4c0a1",
   "metadata": {
    "tags": []
   },
   "outputs": [],
   "source": [
    "def c6_data():\n",
    "    df = pd.read_csv('Fill.csv')\n",
    "    df.drop_duplicates(inplace=True)\n",
    "\n",
    "    x = df.iloc[:, :2].values\n",
    "    y = df.iloc[:, 2].values\n",
    "\n",
    "    # Normalize\n",
    "    scaler_x = StandardScaler()\n",
    "    x = scaler_x.fit_transform(x)\n",
    "\n",
    "    scaler_y = StandardScaler()\n",
    "    y = y.reshape(-1, 1)\n",
    "    y = scaler_y.fit_transform(y)\n",
    "\n",
    "    # Split dataset\n",
    "    x_train, x_test, y_train, y_test = train_test_split(x, y, test_size=0.2, random_state=666)\n",
    "\n",
    "    return x_train, x_test, y_train, y_test, scaler_x, scaler_y\n",
    "\n",
    "# Get data\n",
    "x_train, x_test, y_train, y_test, scaler_x, scaler_y = c6_data()\n"
   ]
  },
  {
   "cell_type": "code",
   "execution_count": 3,
   "id": "b0643de5-7703-4dd6-82f6-0f19b0483e05",
   "metadata": {
    "tags": []
   },
   "outputs": [],
   "source": [
    "# Assume each sample has 10 time steps\n",
    "sequence_length = 10\n",
    "\n",
    "# Generate time series data\n",
    "def create_sequences(data, seq_length):\n",
    "    sequences = []\n",
    "    for i in range(len(data) - seq_length + 1):\n",
    "        sequences.append(data[i:i + seq_length])\n",
    "    return np.array(sequences)\n",
    "\n",
    "# Create training and testing sequences\n",
    "x_train_seq = create_sequences(x_train, sequence_length)\n",
    "x_test_seq = create_sequences(x_test, sequence_length)\n",
    "\n",
    "# Adjust y_train and y_test shapes to match sequences\n",
    "y_train_seq = y_train[sequence_length - 1:]\n",
    "y_test_seq = y_test[sequence_length - 1:]\n"
   ]
  },
  {
   "cell_type": "code",
   "execution_count": 4,
   "id": "df2ebf93-1f6a-4592-a648-4c13ade59695",
   "metadata": {
    "tags": []
   },
   "outputs": [
    {
     "name": "stderr",
     "output_type": "stream",
     "text": [
      "2024-10-11 22:04:36.091676: I tensorflow/core/common_runtime/gpu/gpu_device.cc:1639] Created device /job:localhost/replica:0/task:0/device:GPU:0 with 658 MB memory:  -> device: 0, name: NVIDIA GeForce RTX 2080 Ti, pci bus id: 0000:3e:00.0, compute capability: 7.5\n"
     ]
    },
    {
     "name": "stdout",
     "output_type": "stream",
     "text": [
      "Model loaded from disk.\n",
      "  93/1805 [>.............................] - ETA: 2s"
     ]
    },
    {
     "name": "stderr",
     "output_type": "stream",
     "text": [
      "2024-10-11 22:04:38.799142: I tensorflow/compiler/xla/stream_executor/cuda/cuda_dnn.cc:432] Loaded cuDNN version 8600\n"
     ]
    },
    {
     "name": "stdout",
     "output_type": "stream",
     "text": [
      "1805/1805 [==============================] - 3s 2ms/step\n",
      "MSE: 0.9659130492105209\n",
      "RMSE: 0.9828087551556106\n",
      "MAE: 0.8247754513144215\n",
      "R²: 0.0354995633609928\n"
     ]
    }
   ],
   "source": [
    "# Load the complete model\n",
    "model_path = './lstmmodel/model_lstm_weight'\n",
    "if os.path.exists(model_path):\n",
    "    model = tf.keras.models.load_model(model_path)\n",
    "    print(\"Model loaded from disk.\")\n",
    "\n",
    "    # Predict and calculate additional metrics\n",
    "    y_pred = model.predict(x_test_seq)\n",
    "\n",
    "    # Calculate Mean Squared Error (MSE)\n",
    "    mse = mean_squared_error(y_test_seq, y_pred)\n",
    "    print(f\"MSE: {mse}\")\n",
    "\n",
    "    # Calculate Root Mean Squared Error (RMSE)\n",
    "    rmse = np.sqrt(mse)\n",
    "    print(f\"RMSE: {rmse}\")\n",
    "\n",
    "    # Calculate Mean Absolute Error (MAE)\n",
    "    mae = mean_absolute_error(y_test_seq, y_pred)\n",
    "    print(f\"MAE: {mae}\")\n",
    "\n",
    "    # Calculate R²\n",
    "    r2 = r2_score(y_test_seq, y_pred)\n",
    "    print(f\"R²: {r2}\")\n",
    "else:\n",
    "    print(\"Model file not found.\")\n",
    "    "
   ]
  },
  {
   "cell_type": "code",
   "execution_count": null,
   "id": "9c06284c-83e9-40ac-b6f2-e2ead02e5e73",
   "metadata": {},
   "outputs": [],
   "source": []
  }
 ],
 "metadata": {
  "kernelspec": {
   "display_name": "Python 3 (ipykernel)",
   "language": "python",
   "name": "python3"
  },
  "language_info": {
   "codemirror_mode": {
    "name": "ipython",
    "version": 3
   },
   "file_extension": ".py",
   "mimetype": "text/x-python",
   "name": "python",
   "nbconvert_exporter": "python",
   "pygments_lexer": "ipython3",
   "version": "3.8.10"
  }
 },
 "nbformat": 4,
 "nbformat_minor": 5
}
